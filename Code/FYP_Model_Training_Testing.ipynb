{
  "cells": [
    {
      "cell_type": "code",
      "source": [
        "!pip install catboost\n",
        "!pip install boruta\n",
        "!pip install sklearn"
      ],
      "metadata": {
        "colab": {
          "base_uri": "https://localhost:8080/"
        },
        "id": "9NjnMYs9vmpa",
        "outputId": "3b802241-c71b-4793-932a-050dd338f825"
      },
      "execution_count": 155,
      "outputs": [
        {
          "output_type": "stream",
          "name": "stdout",
          "text": [
            "Requirement already satisfied: catboost in /usr/local/lib/python3.7/dist-packages (1.0.5)\n",
            "Requirement already satisfied: numpy>=1.16.0 in /usr/local/lib/python3.7/dist-packages (from catboost) (1.21.6)\n",
            "Requirement already satisfied: pandas>=0.24.0 in /usr/local/lib/python3.7/dist-packages (from catboost) (1.3.5)\n",
            "Requirement already satisfied: graphviz in /usr/local/lib/python3.7/dist-packages (from catboost) (0.10.1)\n",
            "Requirement already satisfied: matplotlib in /usr/local/lib/python3.7/dist-packages (from catboost) (3.2.2)\n",
            "Requirement already satisfied: six in /usr/local/lib/python3.7/dist-packages (from catboost) (1.15.0)\n",
            "Requirement already satisfied: plotly in /usr/local/lib/python3.7/dist-packages (from catboost) (5.5.0)\n",
            "Requirement already satisfied: scipy in /usr/local/lib/python3.7/dist-packages (from catboost) (1.4.1)\n",
            "Requirement already satisfied: python-dateutil>=2.7.3 in /usr/local/lib/python3.7/dist-packages (from pandas>=0.24.0->catboost) (2.8.2)\n",
            "Requirement already satisfied: pytz>=2017.3 in /usr/local/lib/python3.7/dist-packages (from pandas>=0.24.0->catboost) (2022.1)\n",
            "Requirement already satisfied: kiwisolver>=1.0.1 in /usr/local/lib/python3.7/dist-packages (from matplotlib->catboost) (1.4.2)\n",
            "Requirement already satisfied: pyparsing!=2.0.4,!=2.1.2,!=2.1.6,>=2.0.1 in /usr/local/lib/python3.7/dist-packages (from matplotlib->catboost) (3.0.8)\n",
            "Requirement already satisfied: cycler>=0.10 in /usr/local/lib/python3.7/dist-packages (from matplotlib->catboost) (0.11.0)\n",
            "Requirement already satisfied: typing-extensions in /usr/local/lib/python3.7/dist-packages (from kiwisolver>=1.0.1->matplotlib->catboost) (4.1.1)\n",
            "Requirement already satisfied: tenacity>=6.2.0 in /usr/local/lib/python3.7/dist-packages (from plotly->catboost) (8.0.1)\n",
            "Requirement already satisfied: boruta in /usr/local/lib/python3.7/dist-packages (0.3)\n",
            "Requirement already satisfied: numpy>=1.10.4 in /usr/local/lib/python3.7/dist-packages (from boruta) (1.21.6)\n",
            "Requirement already satisfied: scipy>=0.17.0 in /usr/local/lib/python3.7/dist-packages (from boruta) (1.4.1)\n",
            "Requirement already satisfied: scikit-learn>=0.17.1 in /usr/local/lib/python3.7/dist-packages (from boruta) (1.0.2)\n",
            "Requirement already satisfied: joblib>=0.11 in /usr/local/lib/python3.7/dist-packages (from scikit-learn>=0.17.1->boruta) (1.1.0)\n",
            "Requirement already satisfied: threadpoolctl>=2.0.0 in /usr/local/lib/python3.7/dist-packages (from scikit-learn>=0.17.1->boruta) (3.1.0)\n",
            "Requirement already satisfied: sklearn in /usr/local/lib/python3.7/dist-packages (0.0)\n",
            "Requirement already satisfied: scikit-learn in /usr/local/lib/python3.7/dist-packages (from sklearn) (1.0.2)\n",
            "Requirement already satisfied: joblib>=0.11 in /usr/local/lib/python3.7/dist-packages (from scikit-learn->sklearn) (1.1.0)\n",
            "Requirement already satisfied: threadpoolctl>=2.0.0 in /usr/local/lib/python3.7/dist-packages (from scikit-learn->sklearn) (3.1.0)\n",
            "Requirement already satisfied: scipy>=1.1.0 in /usr/local/lib/python3.7/dist-packages (from scikit-learn->sklearn) (1.4.1)\n",
            "Requirement already satisfied: numpy>=1.14.6 in /usr/local/lib/python3.7/dist-packages (from scikit-learn->sklearn) (1.21.6)\n"
          ]
        }
      ]
    },
    {
      "cell_type": "code",
      "execution_count": 156,
      "metadata": {
        "colab": {
          "base_uri": "https://localhost:8080/"
        },
        "id": "wAyeRgU1OzGb",
        "outputId": "5136249a-e415-4e7c-aeeb-a9c235cfbaba"
      },
      "outputs": [
        {
          "output_type": "stream",
          "name": "stdout",
          "text": [
            "--> Library Loaded\n"
          ]
        }
      ],
      "source": [
        "import pandas as pd\n",
        "import pickle\n",
        "from sklearn import preprocessing\n",
        "from sklearn.model_selection import train_test_split\n",
        "from sklearn.ensemble import RandomForestClassifier\n",
        "from sklearn.feature_selection import RFECV\n",
        "from sklearn.preprocessing import StandardScaler, MinMaxScaler\n",
        "from imblearn.over_sampling import SMOTE \n",
        "from sklearn.tree import DecisionTreeClassifier\n",
        "from sklearn.linear_model import LogisticRegression\n",
        "from sklearn import svm\n",
        "from catboost import CatBoostClassifier\n",
        "import xgboost as xgb\n",
        "\n",
        "from sklearn.metrics import (\n",
        "    accuracy_score, confusion_matrix, classification_report, \n",
        "    roc_auc_score, roc_curve, auc,precision_score,\n",
        "    plot_confusion_matrix, plot_roc_curve,recall_score, f1_score\n",
        ")\n",
        "from sklearn.model_selection import KFold \n",
        "from imblearn.ensemble import BalancedBaggingClassifier\n",
        "from sklearn.metrics import precision_recall_curve\n",
        "import matplotlib.pyplot as plt\n",
        "from sklearn.metrics import average_precision_score\n",
        "from matplotlib import pyplot\n",
        "from sklearn.pipeline import make_pipeline\n",
        "from sklearn.preprocessing import LabelEncoder\n",
        "from sklearn.model_selection import GridSearchCV\n",
        "from sklearn.model_selection import RepeatedStratifiedKFold\n",
        "from sklearn.model_selection import cross_val_score,StratifiedKFold, cross_validate\n",
        "from boruta import BorutaPy\n",
        "import seaborn as sns\n",
        "sns.set_theme(style=\"darkgrid\")\n",
        "pd.set_option('display.max_rows', 200)\n",
        "import seaborn as sns\n",
        "import numpy as np\n",
        "\n",
        "\n",
        "import tensorflow as tf\n",
        "from tensorflow.keras.models import Sequential, Model\n",
        "from tensorflow.keras.layers import Dense, Dropout, BatchNormalization \n",
        "from tensorflow.keras.optimizers import Adam\n",
        "from tensorflow.keras.metrics import AUC\n",
        "\n",
        "print('--> Library Loaded')\n",
        "\n",
        "from sklearn.model_selection import RepeatedStratifiedKFold\n",
        "from sklearn import metrics\n",
        "from sklearn.preprocessing import LabelEncoder"
      ]
    },
    {
      "cell_type": "markdown",
      "metadata": {
        "id": "Nrdu_D5iUpB0"
      },
      "source": [
        "# Load Data"
      ]
    },
    {
      "cell_type": "code",
      "source": [
        "\n",
        " 34  total_il_high_credit_limit  7250 non-null   float64"
      ],
      "metadata": {
        "id": "VUQJ_uJKOZpV"
      },
      "execution_count": null,
      "outputs": []
    },
    {
      "cell_type": "code",
      "source": [
        "from google.colab import drive\n",
        "drive.mount('/content/drive')"
      ],
      "metadata": {
        "colab": {
          "base_uri": "https://localhost:8080/"
        },
        "id": "lCVBFJIXv-wQ",
        "outputId": "11110e45-4e4f-4392-c4a6-34dac6e75bd3"
      },
      "execution_count": 157,
      "outputs": [
        {
          "output_type": "stream",
          "name": "stdout",
          "text": [
            "Drive already mounted at /content/drive; to attempt to forcibly remount, call drive.mount(\"/content/drive\", force_remount=True).\n"
          ]
        }
      ]
    },
    {
      "cell_type": "code",
      "execution_count": 158,
      "metadata": {
        "id": "nISiNGVtC-j4"
      },
      "outputs": [],
      "source": [
        "df = pickle.load(open('/content/drive/MyDrive/ＭＹ FYP/Lending_Club_House_EDA.pkl', 'rb'))"
      ]
    },
    {
      "cell_type": "code",
      "execution_count": 159,
      "metadata": {
        "colab": {
          "base_uri": "https://localhost:8080/"
        },
        "id": "t8JmECSBo6Ie",
        "outputId": "d42d83ca-19eb-407b-e4ce-6a2c72226127"
      },
      "outputs": [
        {
          "output_type": "stream",
          "name": "stdout",
          "text": [
            "<class 'pandas.core.frame.DataFrame'>\n",
            "Int64Index: 7250 entries, 40 to 2260525\n",
            "Data columns (total 36 columns):\n",
            " #   Column                      Non-Null Count  Dtype  \n",
            "---  ------                      --------------  -----  \n",
            " 0   loan_amnt                   7250 non-null   float64\n",
            " 1   funded_amnt                 7250 non-null   float64\n",
            " 2   funded_amnt_inv             7250 non-null   float64\n",
            " 3   term                        7250 non-null   object \n",
            " 4   int_rate                    7250 non-null   float64\n",
            " 5   installment                 7250 non-null   float64\n",
            " 6   sub_grade                   7250 non-null   object \n",
            " 7   emp_length                  7250 non-null   object \n",
            " 8   home_ownership              7250 non-null   object \n",
            " 9   annual_inc                  7250 non-null   float64\n",
            " 10  verification_status         7250 non-null   object \n",
            " 11  loan_status                 7250 non-null   int64  \n",
            " 12  addr_state                  7250 non-null   object \n",
            " 13  dti                         7250 non-null   float64\n",
            " 14  delinq_2yrs                 7250 non-null   object \n",
            " 15  earliest_cr_line            7250 non-null   int64  \n",
            " 16  open_acc                    7250 non-null   float64\n",
            " 17  pub_rec                     7250 non-null   object \n",
            " 18  revol_bal                   7250 non-null   float64\n",
            " 19  revol_util                  7250 non-null   float64\n",
            " 20  total_acc                   7250 non-null   float64\n",
            " 21  initial_list_status         7250 non-null   object \n",
            " 22  acc_now_delinq              7250 non-null   float64\n",
            " 23  tot_coll_amt                7250 non-null   float64\n",
            " 24  tot_cur_bal                 7250 non-null   float64\n",
            " 25  avg_cur_bal                 7250 non-null   float64\n",
            " 26  bc_util                     7250 non-null   float64\n",
            " 27  mort_acc                    7250 non-null   float64\n",
            " 28  num_bc_tl                   7250 non-null   float64\n",
            " 29  num_il_tl                   7250 non-null   float64\n",
            " 30  pub_rec_bankruptcies        7250 non-null   object \n",
            " 31  tax_liens                   7250 non-null   object \n",
            " 32  tot_hi_cred_lim             7250 non-null   float64\n",
            " 33  total_bc_limit              7250 non-null   float64\n",
            " 34  total_il_high_credit_limit  7250 non-null   float64\n",
            " 35  fico_score                  7250 non-null   float64\n",
            "dtypes: float64(23), int64(2), object(11)\n",
            "memory usage: 2.0+ MB\n"
          ]
        }
      ],
      "source": [
        "df.info()"
      ]
    },
    {
      "cell_type": "markdown",
      "metadata": {
        "id": "ImwrbiV-ZRpL"
      },
      "source": [
        "# Label Encoding"
      ]
    },
    {
      "cell_type": "code",
      "execution_count": 160,
      "metadata": {
        "id": "-HU6iplRZYaj"
      },
      "outputs": [],
      "source": [
        "labelencoder = LabelEncoder()"
      ]
    },
    {
      "cell_type": "code",
      "execution_count": 161,
      "metadata": {
        "id": "fLhxpvd7ZZwS"
      },
      "outputs": [],
      "source": [
        "for i in df.columns:\n",
        "    if df[i].dtypes =='object':\n",
        "        df[i] = labelencoder.fit_transform(df[i])"
      ]
    },
    {
      "cell_type": "code",
      "execution_count": 162,
      "metadata": {
        "id": "MHWupzD8qVh3"
      },
      "outputs": [],
      "source": [
        "X = df.drop(['loan_status'],axis=1)\n",
        "y = df['loan_status']"
      ]
    },
    {
      "cell_type": "code",
      "source": [
        "train_final_f1_scores = []\n",
        "train_final_precision_scores = []\n",
        "train_final_recall_scores = []\n",
        "train_model_name = []"
      ],
      "metadata": {
        "id": "qwYTZnIlSDOI"
      },
      "execution_count": 163,
      "outputs": []
    },
    {
      "cell_type": "code",
      "execution_count": 164,
      "metadata": {
        "id": "tjklfNsZUwsN"
      },
      "outputs": [],
      "source": [
        "final_f1_scores = []\n",
        "final_precision_scores = []\n",
        "final_recall_scores = []\n",
        "model_name = []"
      ]
    },
    {
      "cell_type": "code",
      "source": [
        "y"
      ],
      "metadata": {
        "colab": {
          "base_uri": "https://localhost:8080/"
        },
        "id": "Px-HpnjWMLEI",
        "outputId": "60d87517-a8af-4a8e-c977-72415b8258b6"
      },
      "execution_count": 165,
      "outputs": [
        {
          "output_type": "execute_result",
          "data": {
            "text/plain": [
              "40         0\n",
              "54         0\n",
              "174        1\n",
              "481        0\n",
              "507        1\n",
              "          ..\n",
              "2259056    0\n",
              "2259339    0\n",
              "2259838    1\n",
              "2260401    0\n",
              "2260525    0\n",
              "Name: loan_status, Length: 7250, dtype: int64"
            ]
          },
          "metadata": {},
          "execution_count": 165
        }
      ]
    },
    {
      "cell_type": "markdown",
      "metadata": {
        "id": "F4_Zd2eeNhBr"
      },
      "source": [
        "# Logistic Regression"
      ]
    },
    {
      "cell_type": "code",
      "execution_count": 166,
      "metadata": {
        "id": "zAvllXxLIBeJ"
      },
      "outputs": [],
      "source": [
        "kf = StratifiedKFold(n_splits = 10,shuffle=True,random_state=101)\n",
        "lr = LogisticRegression()"
      ]
    },
    {
      "cell_type": "code",
      "execution_count": 167,
      "metadata": {
        "id": "TvwoFb32IGNh"
      },
      "outputs": [],
      "source": [
        "f1_scores = []\n",
        "precision_scores = []\n",
        "recall_scores = []\n",
        "train_f1_scores = []\n",
        "train_precision_scores = []\n",
        "train_recall_scores = []\n",
        "for i in range(10):\n",
        "        results = next(kf.split(X,y),None)\n",
        "        x_train = X.iloc[results[0]]\n",
        "        x_test = X.iloc[results[1]]\n",
        "        y_train = y.iloc[results[0]]\n",
        "        y_test = y.iloc[results[1]]\n",
        "        sc = StandardScaler()\n",
        "        x_train = sc.fit_transform(x_train)\n",
        "        x_test = sc.transform (x_test)\n",
        "        smt = SMOTE(sampling_strategy=\"minority\", random_state=42, k_neighbors=5)\n",
        "        x_train, y_train = smt.fit_resample(x_train, y_train)\n",
        "        model = lr.fit(x_train,y_train)\n",
        "        predictions_train = lr.predict(x_train)\n",
        "        predictions = lr.predict(x_test)\n",
        "        f1_scores.append(f1_score(y_test,predictions))\n",
        "        precision_scores.append(precision_score(y_test,predictions))\n",
        "        recall_scores.append(recall_score(y_test,predictions))\n",
        "        train_f1_scores.append(f1_score(y_train,predictions_train))\n",
        "        train_precision_scores.append(precision_score(y_train,predictions_train))\n",
        "        train_recall_scores.append(recall_score(y_train,predictions_train))"
      ]
    },
    {
      "cell_type": "code",
      "execution_count": 168,
      "metadata": {
        "id": "AKPG6i6HIHkX"
      },
      "outputs": [],
      "source": [
        "final_f1_scores.append(np.mean(f1_scores))\n",
        "final_precision_scores.append(np.mean(precision_scores))\n",
        "final_recall_scores.append(np.mean(recall_scores))\n",
        "model_name.append('Logistic Regression')"
      ]
    },
    {
      "cell_type": "code",
      "source": [
        "train_final_f1_scores.append(np.mean(train_f1_scores))\n",
        "train_final_precision_scores.append(np.mean(train_precision_scores))\n",
        "train_final_recall_scores.append(np.mean(train_recall_scores))\n",
        "train_model_name.append('Logistic Regression')"
      ],
      "metadata": {
        "id": "QXkOZWfYVAPT"
      },
      "execution_count": 169,
      "outputs": []
    },
    {
      "cell_type": "code",
      "source": [
        "print(\"LR F1-socre \" + str(f1_scores))\n",
        "print(\"LR Precision \" + str(precision_scores))\n",
        "print(\"LR Recall \" + str(recall_scores))"
      ],
      "metadata": {
        "colab": {
          "base_uri": "https://localhost:8080/"
        },
        "id": "YK_0TRFhugcM",
        "outputId": "88910f6f-dcbd-4825-801a-156cc15687d6"
      },
      "execution_count": 170,
      "outputs": [
        {
          "output_type": "stream",
          "name": "stdout",
          "text": [
            "LR F1-socre [0.7650273224043715, 0.7650273224043715, 0.7650273224043715, 0.7650273224043715, 0.7650273224043715, 0.7650273224043715, 0.7650273224043715, 0.7650273224043715, 0.7650273224043715, 0.7650273224043715]\n",
            "LR Precision [0.6730769230769231, 0.6730769230769231, 0.6730769230769231, 0.6730769230769231, 0.6730769230769231, 0.6730769230769231, 0.6730769230769231, 0.6730769230769231, 0.6730769230769231, 0.6730769230769231]\n",
            "LR Recall [0.8860759493670886, 0.8860759493670886, 0.8860759493670886, 0.8860759493670886, 0.8860759493670886, 0.8860759493670886, 0.8860759493670886, 0.8860759493670886, 0.8860759493670886, 0.8860759493670886]\n"
          ]
        }
      ]
    },
    {
      "cell_type": "code",
      "source": [
        "print(\"LR F1-socre \" + str(train_f1_scores))\n",
        "print(\"LR Precision \" + str(train_precision_scores))\n",
        "print(\"LR Recall \" + str(train_recall_scores))"
      ],
      "metadata": {
        "colab": {
          "base_uri": "https://localhost:8080/"
        },
        "id": "0o2rrnAWXsJC",
        "outputId": "14b10fa4-cbcd-4a75-cf3d-a6075e3e99b7"
      },
      "execution_count": 171,
      "outputs": [
        {
          "output_type": "stream",
          "name": "stdout",
          "text": [
            "LR F1-socre [0.8980774804366728, 0.8980774804366728, 0.8980774804366728, 0.8980774804366728, 0.8980774804366728, 0.8980774804366728, 0.8980774804366728, 0.8980774804366728, 0.8980774804366728, 0.8980774804366728]\n",
            "LR Precision [0.8843226788432268, 0.8843226788432268, 0.8843226788432268, 0.8843226788432268, 0.8843226788432268, 0.8843226788432268, 0.8843226788432268, 0.8843226788432268, 0.8843226788432268, 0.8843226788432268]\n",
            "LR Recall [0.9122669283611383, 0.9122669283611383, 0.9122669283611383, 0.9122669283611383, 0.9122669283611383, 0.9122669283611383, 0.9122669283611383, 0.9122669283611383, 0.9122669283611383, 0.9122669283611383]\n"
          ]
        }
      ]
    },
    {
      "cell_type": "markdown",
      "metadata": {
        "id": "Mekkf05t-uDE"
      },
      "source": [
        "# Support Vector Machine"
      ]
    },
    {
      "cell_type": "code",
      "execution_count": 172,
      "metadata": {
        "id": "os2IVI7Y-xXp"
      },
      "outputs": [],
      "source": [
        "kf = StratifiedKFold(n_splits = 10,shuffle=True,random_state=101)\n",
        "svc = svm.SVC(kernel='linear')"
      ]
    },
    {
      "cell_type": "code",
      "execution_count": 173,
      "metadata": {
        "id": "VX7YtYQaGPVr"
      },
      "outputs": [],
      "source": [
        "f1_scores = []\n",
        "precision_scores = []\n",
        "recall_scores = []\n",
        "train_f1_scores = []\n",
        "train_precision_scores = []\n",
        "train_recall_scores = []\n",
        "\n",
        "for i in range(10):\n",
        "        results = next(kf.split(X,y),None)\n",
        "        x_train = X.iloc[results[0]]\n",
        "        x_test = X.iloc[results[1]]\n",
        "        y_train = y.iloc[results[0]]\n",
        "        y_test = y.iloc[results[1]]\n",
        "        sc = StandardScaler()\n",
        "        x_train = sc.fit_transform(x_train)\n",
        "        x_test = sc.transform (x_test)\n",
        "        smt = SMOTE(sampling_strategy=\"minority\", random_state=42, k_neighbors=5)\n",
        "        x_train, y_train = smt.fit_resample(x_train, y_train)\n",
        "        model = svc.fit(x_train,y_train)\n",
        "        predictions = svc.predict(x_test)\n",
        "        predictions_train = svc.predict(x_train)\n",
        "        f1_scores.append(f1_score(y_test,predictions))\n",
        "        precision_scores.append(precision_score(y_test,predictions))\n",
        "        recall_scores.append(recall_score(y_test,predictions))\n",
        "        train_f1_scores.append(f1_score(y_train,predictions_train))\n",
        "        train_precision_scores.append(precision_score(y_train,predictions_train))\n",
        "        train_recall_scores.append(recall_score(y_train,predictions_train))"
      ]
    },
    {
      "cell_type": "code",
      "execution_count": 174,
      "metadata": {
        "id": "wp9fim8FGdl9"
      },
      "outputs": [],
      "source": [
        "final_f1_scores.append(np.mean(f1_scores))\n",
        "final_precision_scores.append(np.mean(precision_scores))\n",
        "final_recall_scores.append(np.mean(recall_scores))\n",
        "model_name.append('Support Vector Machine')"
      ]
    },
    {
      "cell_type": "code",
      "source": [
        "train_final_f1_scores.append(np.mean(train_f1_scores))\n",
        "train_final_precision_scores.append(np.mean(train_precision_scores))\n",
        "train_final_recall_scores.append(np.mean(train_recall_scores))\n",
        "train_model_name.append('Support Vector Machine')"
      ],
      "metadata": {
        "id": "DkDQ0GAyXgEr"
      },
      "execution_count": 175,
      "outputs": []
    },
    {
      "cell_type": "code",
      "source": [
        "print(\"SVM F1-socre \" + str(f1_scores))\n",
        "print(\"SVM Precision \" + str(precision_scores))\n",
        "print(\"SVM Recall \" + str(recall_scores))"
      ],
      "metadata": {
        "colab": {
          "base_uri": "https://localhost:8080/"
        },
        "id": "i600TWttu4Q0",
        "outputId": "a91175dd-8a80-4b6e-df4f-cfb6cfa565d8"
      },
      "execution_count": 176,
      "outputs": [
        {
          "output_type": "stream",
          "name": "stdout",
          "text": [
            "SVM F1-socre [0.77088948787062, 0.77088948787062, 0.77088948787062, 0.77088948787062, 0.77088948787062, 0.77088948787062, 0.77088948787062, 0.77088948787062, 0.77088948787062, 0.77088948787062]\n",
            "SVM Precision [0.6713615023474179, 0.6713615023474179, 0.6713615023474179, 0.6713615023474179, 0.6713615023474179, 0.6713615023474179, 0.6713615023474179, 0.6713615023474179, 0.6713615023474179, 0.6713615023474179]\n",
            "SVM Recall [0.9050632911392406, 0.9050632911392406, 0.9050632911392406, 0.9050632911392406, 0.9050632911392406, 0.9050632911392406, 0.9050632911392406, 0.9050632911392406, 0.9050632911392406, 0.9050632911392406]\n"
          ]
        }
      ]
    },
    {
      "cell_type": "code",
      "source": [
        "print(\"SVM F1-socre \" + str(train_f1_scores))\n",
        "print(\"SVM Precision \" + str(train_precision_scores))\n",
        "print(\"SVM Recall \" + str(train_recall_scores))"
      ],
      "metadata": {
        "colab": {
          "base_uri": "https://localhost:8080/"
        },
        "id": "wFWzo3gtXy5p",
        "outputId": "cbd03244-e5f1-489d-ad68-2aa28fce32b8"
      },
      "execution_count": 177,
      "outputs": [
        {
          "output_type": "stream",
          "name": "stdout",
          "text": [
            "SVM F1-socre [0.8987706492508645, 0.8987706492508645, 0.8987706492508645, 0.8987706492508645, 0.8987706492508645, 0.8987706492508645, 0.8987706492508645, 0.8987706492508645, 0.8987706492508645, 0.8987706492508645]\n",
            "SVM Precision [0.8800075230393078, 0.8800075230393078, 0.8800075230393078, 0.8800075230393078, 0.8800075230393078, 0.8800075230393078, 0.8800075230393078, 0.8800075230393078, 0.8800075230393078, 0.8800075230393078]\n",
            "SVM Recall [0.918351324828263, 0.918351324828263, 0.918351324828263, 0.918351324828263, 0.918351324828263, 0.918351324828263, 0.918351324828263, 0.918351324828263, 0.918351324828263, 0.918351324828263]\n"
          ]
        }
      ]
    },
    {
      "cell_type": "markdown",
      "metadata": {
        "id": "cwASIDTkNkNE"
      },
      "source": [
        "# Decision Tree"
      ]
    },
    {
      "cell_type": "code",
      "execution_count": 178,
      "metadata": {
        "id": "ohTsyPLBIJ2Z"
      },
      "outputs": [],
      "source": [
        "kf = StratifiedKFold(n_splits = 10,shuffle=True,random_state=101)\n",
        "clf = DecisionTreeClassifier(random_state=42)"
      ]
    },
    {
      "cell_type": "code",
      "execution_count": 179,
      "metadata": {
        "id": "d_LqtSn2Is_B"
      },
      "outputs": [],
      "source": [
        "f1_scores = []\n",
        "precision_scores = []\n",
        "recall_scores = []\n",
        "train_f1_scores = []\n",
        "train_precision_scores = []\n",
        "train_recall_scores = []\n",
        "for i in range(10):\n",
        "        results = next(kf.split(X,y),None)\n",
        "        x_train = X.iloc[results[0]]\n",
        "        x_test = X.iloc[results[1]]\n",
        "        y_train = y.iloc[results[0]]\n",
        "        y_test = y.iloc[results[1]]\n",
        "        sc = StandardScaler()\n",
        "        x_train = sc.fit_transform(x_train)\n",
        "        x_test = sc.transform (x_test)\n",
        "        smt = SMOTE(sampling_strategy=\"minority\", random_state=42, k_neighbors=5)\n",
        "        x_train, y_train = smt.fit_resample(x_train, y_train)\n",
        "        model = clf.fit(x_train,y_train)\n",
        "        predictions = clf.predict(x_test)\n",
        "        predictions_train = clf.predict(x_train)\n",
        "        f1_scores.append(f1_score(y_test,predictions))\n",
        "        precision_scores.append(precision_score(y_test,predictions))\n",
        "        recall_scores.append(recall_score(y_test,predictions))\n",
        "        train_f1_scores.append(f1_score(y_train,predictions_train))\n",
        "        train_precision_scores.append(precision_score(y_train,predictions_train))\n",
        "        train_recall_scores.append(recall_score(y_train,predictions_train))"
      ]
    },
    {
      "cell_type": "code",
      "execution_count": 180,
      "metadata": {
        "id": "Oz5noClPIyce"
      },
      "outputs": [],
      "source": [
        "final_f1_scores.append(np.mean(f1_scores))\n",
        "final_precision_scores.append(np.mean(precision_scores))\n",
        "final_recall_scores.append(np.mean(recall_scores))\n",
        "model_name.append('Decision Tree')"
      ]
    },
    {
      "cell_type": "code",
      "source": [
        "train_final_f1_scores.append(np.mean(train_f1_scores))\n",
        "train_final_precision_scores.append(np.mean(train_precision_scores))\n",
        "train_final_recall_scores.append(np.mean(train_recall_scores))\n",
        "train_model_name.append('Decision Tree')"
      ],
      "metadata": {
        "id": "YLo6Im7HXkMo"
      },
      "execution_count": 181,
      "outputs": []
    },
    {
      "cell_type": "code",
      "source": [
        "print(\"DT F1-socre \" + str(f1_scores))\n",
        "print(\"DT Precision \" + str(precision_scores))\n",
        "print(\"DT Recall \" + str(recall_scores))"
      ],
      "metadata": {
        "colab": {
          "base_uri": "https://localhost:8080/"
        },
        "id": "5IURE3spu8mt",
        "outputId": "2d3dd230-ef36-4ff3-8619-3f51919a71c5"
      },
      "execution_count": 182,
      "outputs": [
        {
          "output_type": "stream",
          "name": "stdout",
          "text": [
            "DT F1-socre [0.6626865671641792, 0.6626865671641792, 0.6626865671641792, 0.6626865671641792, 0.6626865671641792, 0.6626865671641792, 0.6626865671641792, 0.6626865671641792, 0.6626865671641792, 0.6626865671641792]\n",
            "DT Precision [0.6271186440677966, 0.6271186440677966, 0.6271186440677966, 0.6271186440677966, 0.6271186440677966, 0.6271186440677966, 0.6271186440677966, 0.6271186440677966, 0.6271186440677966, 0.6271186440677966]\n",
            "DT Recall [0.7025316455696202, 0.7025316455696202, 0.7025316455696202, 0.7025316455696202, 0.7025316455696202, 0.7025316455696202, 0.7025316455696202, 0.7025316455696202, 0.7025316455696202, 0.7025316455696202]\n"
          ]
        }
      ]
    },
    {
      "cell_type": "code",
      "source": [
        "print(\"DT F1-socre \" + str(train_f1_scores))\n",
        "print(\"DT Precision \" + str(train_precision_scores))\n",
        "print(\"DT Recall \" + str(train_recall_scores))"
      ],
      "metadata": {
        "colab": {
          "base_uri": "https://localhost:8080/"
        },
        "id": "o4_XgcLVX1VE",
        "outputId": "88743ff9-295e-428a-a19f-f9257fa09510"
      },
      "execution_count": 183,
      "outputs": [
        {
          "output_type": "stream",
          "name": "stdout",
          "text": [
            "DT F1-socre [1.0, 1.0, 1.0, 1.0, 1.0, 1.0, 1.0, 1.0, 1.0, 1.0]\n",
            "DT Precision [1.0, 1.0, 1.0, 1.0, 1.0, 1.0, 1.0, 1.0, 1.0, 1.0]\n",
            "DT Recall [1.0, 1.0, 1.0, 1.0, 1.0, 1.0, 1.0, 1.0, 1.0, 1.0]\n"
          ]
        }
      ]
    },
    {
      "cell_type": "markdown",
      "metadata": {
        "id": "DtkusRMjNeTR"
      },
      "source": [
        "# Random Forest"
      ]
    },
    {
      "cell_type": "code",
      "execution_count": 184,
      "metadata": {
        "id": "qBya4c4-H447"
      },
      "outputs": [],
      "source": [
        "kf = StratifiedKFold(n_splits = 10,shuffle=True,random_state=101)\n",
        "rf =RandomForestClassifier()"
      ]
    },
    {
      "cell_type": "code",
      "execution_count": 185,
      "metadata": {
        "id": "vgwtPvu-H-bf"
      },
      "outputs": [],
      "source": [
        "f1_scores = []\n",
        "precision_scores = []\n",
        "recall_scores = []\n",
        "train_f1_scores = []\n",
        "train_precision_scores = []\n",
        "train_recall_scores = []\n",
        "for i in range(10):\n",
        "        results = next(kf.split(X,y),None)\n",
        "        x_train = X.iloc[results[0]]\n",
        "        x_test = X.iloc[results[1]]\n",
        "        y_train = y.iloc[results[0]]\n",
        "        y_test = y.iloc[results[1]]\n",
        "        sc = StandardScaler()\n",
        "        x_train = sc.fit_transform(x_train)\n",
        "        x_test = sc.transform (x_test)\n",
        "        smt = SMOTE(sampling_strategy=\"minority\", random_state=42, k_neighbors=5)\n",
        "        x_train, y_train = smt.fit_resample(x_train, y_train)\n",
        "        model = rf.fit(x_train,y_train)\n",
        "        predictions = rf.predict(x_test)\n",
        "        predictions_train = rf.predict(x_train)\n",
        "        f1_scores.append(f1_score(y_test,predictions))\n",
        "        precision_scores.append(precision_score(y_test,predictions))\n",
        "        recall_scores.append(recall_score(y_test,predictions))\n",
        "        train_f1_scores.append(f1_score(y_train,predictions_train))\n",
        "        train_precision_scores.append(precision_score(y_train,predictions_train))\n",
        "        train_recall_scores.append(recall_score(y_train,predictions_train))"
      ]
    },
    {
      "cell_type": "code",
      "execution_count": 186,
      "metadata": {
        "id": "9eSHnFWHH_rZ"
      },
      "outputs": [],
      "source": [
        "final_f1_scores.append(np.mean(f1_scores))\n",
        "final_precision_scores.append(np.mean(precision_scores))\n",
        "final_recall_scores.append(np.mean(recall_scores))\n",
        "model_name.append('Random Forest')"
      ]
    },
    {
      "cell_type": "code",
      "source": [
        "train_final_f1_scores.append(np.mean(train_f1_scores))\n",
        "train_final_precision_scores.append(np.mean(train_precision_scores))\n",
        "train_final_recall_scores.append(np.mean(train_recall_scores))\n",
        "train_model_name.append('Random Forest')"
      ],
      "metadata": {
        "id": "Ju26pZUjg9P1"
      },
      "execution_count": 187,
      "outputs": []
    },
    {
      "cell_type": "code",
      "source": [
        "print(\"RF F1-socre \" + str(f1_scores))\n",
        "print(\"RF Precision \" + str(precision_scores))\n",
        "print(\"RF Recall \" + str(recall_scores))"
      ],
      "metadata": {
        "colab": {
          "base_uri": "https://localhost:8080/"
        },
        "id": "SHvuH2sFu_iE",
        "outputId": "e4b8ba06-ca1d-429e-94fa-beba25266ce2"
      },
      "execution_count": 188,
      "outputs": [
        {
          "output_type": "stream",
          "name": "stdout",
          "text": [
            "RF F1-socre [0.75, 0.7576601671309191, 0.7528735632183907, 0.7535410764872521, 0.7298050139275766, 0.7492957746478874, 0.75, 0.735042735042735, 0.7443181818181819, 0.75]\n",
            "RF Precision [0.6804123711340206, 0.6766169154228856, 0.6894736842105263, 0.6820512820512821, 0.6517412935323383, 0.6751269035532995, 0.6804123711340206, 0.6683937823834197, 0.6752577319587629, 0.6804123711340206]\n",
            "RF Recall [0.8354430379746836, 0.8607594936708861, 0.8291139240506329, 0.8417721518987342, 0.8291139240506329, 0.8417721518987342, 0.8354430379746836, 0.8164556962025317, 0.8291139240506329, 0.8354430379746836]\n"
          ]
        }
      ]
    },
    {
      "cell_type": "code",
      "source": [
        "print(\"RF F1-socre \" + str(train_f1_scores))\n",
        "print(\"RF Precision \" + str(train_precision_scores))\n",
        "print(\"RF Recall \" + str(train_recall_scores))"
      ],
      "metadata": {
        "colab": {
          "base_uri": "https://localhost:8080/"
        },
        "id": "1oCwym8dX4V1",
        "outputId": "cddb7d78-7626-4537-be40-c4f0aa18fc1d"
      },
      "execution_count": 189,
      "outputs": [
        {
          "output_type": "stream",
          "name": "stdout",
          "text": [
            "RF F1-socre [1.0, 1.0, 1.0, 1.0, 1.0, 0.9999018742027279, 1.0, 1.0, 1.0, 1.0]\n",
            "RF Precision [1.0, 1.0, 1.0, 1.0, 1.0, 0.9998037676609105, 1.0, 1.0, 1.0, 1.0]\n",
            "RF Recall [1.0, 1.0, 1.0, 1.0, 1.0, 1.0, 1.0, 1.0, 1.0, 1.0]\n"
          ]
        }
      ]
    },
    {
      "cell_type": "markdown",
      "metadata": {
        "id": "l3qsb_4tNZMW"
      },
      "source": [
        "# Evaluation"
      ]
    },
    {
      "cell_type": "code",
      "source": [
        "dict1 = {'Model':train_model_name,'precision':train_final_precision_scores,'recall':train_final_recall_scores,'f1-score':train_final_f1_scores}"
      ],
      "metadata": {
        "id": "yIMuaAWKHSl1"
      },
      "execution_count": 205,
      "outputs": []
    },
    {
      "cell_type": "code",
      "source": [
        "df_train = pd.DataFrame(dict1)"
      ],
      "metadata": {
        "id": "_3BJT6c0TKqJ"
      },
      "execution_count": 206,
      "outputs": []
    },
    {
      "cell_type": "code",
      "source": [
        "df_train #model performance of training"
      ],
      "metadata": {
        "colab": {
          "base_uri": "https://localhost:8080/",
          "height": 238
        },
        "id": "-QMlH1WMTNTD",
        "outputId": "ce324912-ad6d-41c1-a30f-15420251c1db"
      },
      "execution_count": 207,
      "outputs": [
        {
          "output_type": "execute_result",
          "data": {
            "text/plain": [
              "                    Model  precision    recall  f1-score\n",
              "0     Logistic Regression   0.884323  0.912267  0.898077\n",
              "1  Support Vector Machine   0.880008  0.918351  0.898771\n",
              "2           Decision Tree   1.000000  1.000000  1.000000\n",
              "3           Random Forest   0.999980  1.000000  0.999990\n",
              "4                CatBoost   0.971883  0.983710  0.977760\n",
              "5                 XGBoost   0.911211  0.950736  0.930554"
            ],
            "text/html": [
              "\n",
              "  <div id=\"df-fa455afe-338b-4444-9a49-0245dfc9dc7f\">\n",
              "    <div class=\"colab-df-container\">\n",
              "      <div>\n",
              "<style scoped>\n",
              "    .dataframe tbody tr th:only-of-type {\n",
              "        vertical-align: middle;\n",
              "    }\n",
              "\n",
              "    .dataframe tbody tr th {\n",
              "        vertical-align: top;\n",
              "    }\n",
              "\n",
              "    .dataframe thead th {\n",
              "        text-align: right;\n",
              "    }\n",
              "</style>\n",
              "<table border=\"1\" class=\"dataframe\">\n",
              "  <thead>\n",
              "    <tr style=\"text-align: right;\">\n",
              "      <th></th>\n",
              "      <th>Model</th>\n",
              "      <th>precision</th>\n",
              "      <th>recall</th>\n",
              "      <th>f1-score</th>\n",
              "    </tr>\n",
              "  </thead>\n",
              "  <tbody>\n",
              "    <tr>\n",
              "      <th>0</th>\n",
              "      <td>Logistic Regression</td>\n",
              "      <td>0.884323</td>\n",
              "      <td>0.912267</td>\n",
              "      <td>0.898077</td>\n",
              "    </tr>\n",
              "    <tr>\n",
              "      <th>1</th>\n",
              "      <td>Support Vector Machine</td>\n",
              "      <td>0.880008</td>\n",
              "      <td>0.918351</td>\n",
              "      <td>0.898771</td>\n",
              "    </tr>\n",
              "    <tr>\n",
              "      <th>2</th>\n",
              "      <td>Decision Tree</td>\n",
              "      <td>1.000000</td>\n",
              "      <td>1.000000</td>\n",
              "      <td>1.000000</td>\n",
              "    </tr>\n",
              "    <tr>\n",
              "      <th>3</th>\n",
              "      <td>Random Forest</td>\n",
              "      <td>0.999980</td>\n",
              "      <td>1.000000</td>\n",
              "      <td>0.999990</td>\n",
              "    </tr>\n",
              "    <tr>\n",
              "      <th>4</th>\n",
              "      <td>CatBoost</td>\n",
              "      <td>0.971883</td>\n",
              "      <td>0.983710</td>\n",
              "      <td>0.977760</td>\n",
              "    </tr>\n",
              "    <tr>\n",
              "      <th>5</th>\n",
              "      <td>XGBoost</td>\n",
              "      <td>0.911211</td>\n",
              "      <td>0.950736</td>\n",
              "      <td>0.930554</td>\n",
              "    </tr>\n",
              "  </tbody>\n",
              "</table>\n",
              "</div>\n",
              "      <button class=\"colab-df-convert\" onclick=\"convertToInteractive('df-fa455afe-338b-4444-9a49-0245dfc9dc7f')\"\n",
              "              title=\"Convert this dataframe to an interactive table.\"\n",
              "              style=\"display:none;\">\n",
              "        \n",
              "  <svg xmlns=\"http://www.w3.org/2000/svg\" height=\"24px\"viewBox=\"0 0 24 24\"\n",
              "       width=\"24px\">\n",
              "    <path d=\"M0 0h24v24H0V0z\" fill=\"none\"/>\n",
              "    <path d=\"M18.56 5.44l.94 2.06.94-2.06 2.06-.94-2.06-.94-.94-2.06-.94 2.06-2.06.94zm-11 1L8.5 8.5l.94-2.06 2.06-.94-2.06-.94L8.5 2.5l-.94 2.06-2.06.94zm10 10l.94 2.06.94-2.06 2.06-.94-2.06-.94-.94-2.06-.94 2.06-2.06.94z\"/><path d=\"M17.41 7.96l-1.37-1.37c-.4-.4-.92-.59-1.43-.59-.52 0-1.04.2-1.43.59L10.3 9.45l-7.72 7.72c-.78.78-.78 2.05 0 2.83L4 21.41c.39.39.9.59 1.41.59.51 0 1.02-.2 1.41-.59l7.78-7.78 2.81-2.81c.8-.78.8-2.07 0-2.86zM5.41 20L4 18.59l7.72-7.72 1.47 1.35L5.41 20z\"/>\n",
              "  </svg>\n",
              "      </button>\n",
              "      \n",
              "  <style>\n",
              "    .colab-df-container {\n",
              "      display:flex;\n",
              "      flex-wrap:wrap;\n",
              "      gap: 12px;\n",
              "    }\n",
              "\n",
              "    .colab-df-convert {\n",
              "      background-color: #E8F0FE;\n",
              "      border: none;\n",
              "      border-radius: 50%;\n",
              "      cursor: pointer;\n",
              "      display: none;\n",
              "      fill: #1967D2;\n",
              "      height: 32px;\n",
              "      padding: 0 0 0 0;\n",
              "      width: 32px;\n",
              "    }\n",
              "\n",
              "    .colab-df-convert:hover {\n",
              "      background-color: #E2EBFA;\n",
              "      box-shadow: 0px 1px 2px rgba(60, 64, 67, 0.3), 0px 1px 3px 1px rgba(60, 64, 67, 0.15);\n",
              "      fill: #174EA6;\n",
              "    }\n",
              "\n",
              "    [theme=dark] .colab-df-convert {\n",
              "      background-color: #3B4455;\n",
              "      fill: #D2E3FC;\n",
              "    }\n",
              "\n",
              "    [theme=dark] .colab-df-convert:hover {\n",
              "      background-color: #434B5C;\n",
              "      box-shadow: 0px 1px 3px 1px rgba(0, 0, 0, 0.15);\n",
              "      filter: drop-shadow(0px 1px 2px rgba(0, 0, 0, 0.3));\n",
              "      fill: #FFFFFF;\n",
              "    }\n",
              "  </style>\n",
              "\n",
              "      <script>\n",
              "        const buttonEl =\n",
              "          document.querySelector('#df-fa455afe-338b-4444-9a49-0245dfc9dc7f button.colab-df-convert');\n",
              "        buttonEl.style.display =\n",
              "          google.colab.kernel.accessAllowed ? 'block' : 'none';\n",
              "\n",
              "        async function convertToInteractive(key) {\n",
              "          const element = document.querySelector('#df-fa455afe-338b-4444-9a49-0245dfc9dc7f');\n",
              "          const dataTable =\n",
              "            await google.colab.kernel.invokeFunction('convertToInteractive',\n",
              "                                                     [key], {});\n",
              "          if (!dataTable) return;\n",
              "\n",
              "          const docLinkHtml = 'Like what you see? Visit the ' +\n",
              "            '<a target=\"_blank\" href=https://colab.research.google.com/notebooks/data_table.ipynb>data table notebook</a>'\n",
              "            + ' to learn more about interactive tables.';\n",
              "          element.innerHTML = '';\n",
              "          dataTable['output_type'] = 'display_data';\n",
              "          await google.colab.output.renderOutput(dataTable, element);\n",
              "          const docLink = document.createElement('div');\n",
              "          docLink.innerHTML = docLinkHtml;\n",
              "          element.appendChild(docLink);\n",
              "        }\n",
              "      </script>\n",
              "    </div>\n",
              "  </div>\n",
              "  "
            ]
          },
          "metadata": {},
          "execution_count": 207
        }
      ]
    },
    {
      "cell_type": "code",
      "execution_count": 202,
      "metadata": {
        "id": "_4y_td8RThGc"
      },
      "outputs": [],
      "source": [
        "dict2 = {'Model':model_name,'precision':final_precision_scores,'recall':final_recall_scores,'f1-score':final_f1_scores}"
      ]
    },
    {
      "cell_type": "code",
      "execution_count": 203,
      "metadata": {
        "id": "L6s6PZxfTj44"
      },
      "outputs": [],
      "source": [
        "df_test = pd.DataFrame(dict2)"
      ]
    },
    {
      "cell_type": "code",
      "execution_count": 204,
      "metadata": {
        "colab": {
          "base_uri": "https://localhost:8080/",
          "height": 238
        },
        "id": "VZGEX65oTmLE",
        "outputId": "8c57e543-d650-43d1-ba1e-8adc2f53cefc"
      },
      "outputs": [
        {
          "output_type": "execute_result",
          "data": {
            "text/plain": [
              "                    Model  precision    recall  f1-score\n",
              "0     Logistic Regression   0.673077  0.886076  0.765027\n",
              "1  Support Vector Machine   0.671362  0.905063  0.770889\n",
              "2           Decision Tree   0.627119  0.702532  0.662687\n",
              "3           Random Forest   0.675990  0.835443  0.747254\n",
              "4                CatBoost   0.710383  0.822785  0.762463\n",
              "5                 XGBoost   0.690355  0.860759  0.766197"
            ],
            "text/html": [
              "\n",
              "  <div id=\"df-0a98fc37-9db9-47ed-a0c3-1d5f763db9a5\">\n",
              "    <div class=\"colab-df-container\">\n",
              "      <div>\n",
              "<style scoped>\n",
              "    .dataframe tbody tr th:only-of-type {\n",
              "        vertical-align: middle;\n",
              "    }\n",
              "\n",
              "    .dataframe tbody tr th {\n",
              "        vertical-align: top;\n",
              "    }\n",
              "\n",
              "    .dataframe thead th {\n",
              "        text-align: right;\n",
              "    }\n",
              "</style>\n",
              "<table border=\"1\" class=\"dataframe\">\n",
              "  <thead>\n",
              "    <tr style=\"text-align: right;\">\n",
              "      <th></th>\n",
              "      <th>Model</th>\n",
              "      <th>precision</th>\n",
              "      <th>recall</th>\n",
              "      <th>f1-score</th>\n",
              "    </tr>\n",
              "  </thead>\n",
              "  <tbody>\n",
              "    <tr>\n",
              "      <th>0</th>\n",
              "      <td>Logistic Regression</td>\n",
              "      <td>0.673077</td>\n",
              "      <td>0.886076</td>\n",
              "      <td>0.765027</td>\n",
              "    </tr>\n",
              "    <tr>\n",
              "      <th>1</th>\n",
              "      <td>Support Vector Machine</td>\n",
              "      <td>0.671362</td>\n",
              "      <td>0.905063</td>\n",
              "      <td>0.770889</td>\n",
              "    </tr>\n",
              "    <tr>\n",
              "      <th>2</th>\n",
              "      <td>Decision Tree</td>\n",
              "      <td>0.627119</td>\n",
              "      <td>0.702532</td>\n",
              "      <td>0.662687</td>\n",
              "    </tr>\n",
              "    <tr>\n",
              "      <th>3</th>\n",
              "      <td>Random Forest</td>\n",
              "      <td>0.675990</td>\n",
              "      <td>0.835443</td>\n",
              "      <td>0.747254</td>\n",
              "    </tr>\n",
              "    <tr>\n",
              "      <th>4</th>\n",
              "      <td>CatBoost</td>\n",
              "      <td>0.710383</td>\n",
              "      <td>0.822785</td>\n",
              "      <td>0.762463</td>\n",
              "    </tr>\n",
              "    <tr>\n",
              "      <th>5</th>\n",
              "      <td>XGBoost</td>\n",
              "      <td>0.690355</td>\n",
              "      <td>0.860759</td>\n",
              "      <td>0.766197</td>\n",
              "    </tr>\n",
              "  </tbody>\n",
              "</table>\n",
              "</div>\n",
              "      <button class=\"colab-df-convert\" onclick=\"convertToInteractive('df-0a98fc37-9db9-47ed-a0c3-1d5f763db9a5')\"\n",
              "              title=\"Convert this dataframe to an interactive table.\"\n",
              "              style=\"display:none;\">\n",
              "        \n",
              "  <svg xmlns=\"http://www.w3.org/2000/svg\" height=\"24px\"viewBox=\"0 0 24 24\"\n",
              "       width=\"24px\">\n",
              "    <path d=\"M0 0h24v24H0V0z\" fill=\"none\"/>\n",
              "    <path d=\"M18.56 5.44l.94 2.06.94-2.06 2.06-.94-2.06-.94-.94-2.06-.94 2.06-2.06.94zm-11 1L8.5 8.5l.94-2.06 2.06-.94-2.06-.94L8.5 2.5l-.94 2.06-2.06.94zm10 10l.94 2.06.94-2.06 2.06-.94-2.06-.94-.94-2.06-.94 2.06-2.06.94z\"/><path d=\"M17.41 7.96l-1.37-1.37c-.4-.4-.92-.59-1.43-.59-.52 0-1.04.2-1.43.59L10.3 9.45l-7.72 7.72c-.78.78-.78 2.05 0 2.83L4 21.41c.39.39.9.59 1.41.59.51 0 1.02-.2 1.41-.59l7.78-7.78 2.81-2.81c.8-.78.8-2.07 0-2.86zM5.41 20L4 18.59l7.72-7.72 1.47 1.35L5.41 20z\"/>\n",
              "  </svg>\n",
              "      </button>\n",
              "      \n",
              "  <style>\n",
              "    .colab-df-container {\n",
              "      display:flex;\n",
              "      flex-wrap:wrap;\n",
              "      gap: 12px;\n",
              "    }\n",
              "\n",
              "    .colab-df-convert {\n",
              "      background-color: #E8F0FE;\n",
              "      border: none;\n",
              "      border-radius: 50%;\n",
              "      cursor: pointer;\n",
              "      display: none;\n",
              "      fill: #1967D2;\n",
              "      height: 32px;\n",
              "      padding: 0 0 0 0;\n",
              "      width: 32px;\n",
              "    }\n",
              "\n",
              "    .colab-df-convert:hover {\n",
              "      background-color: #E2EBFA;\n",
              "      box-shadow: 0px 1px 2px rgba(60, 64, 67, 0.3), 0px 1px 3px 1px rgba(60, 64, 67, 0.15);\n",
              "      fill: #174EA6;\n",
              "    }\n",
              "\n",
              "    [theme=dark] .colab-df-convert {\n",
              "      background-color: #3B4455;\n",
              "      fill: #D2E3FC;\n",
              "    }\n",
              "\n",
              "    [theme=dark] .colab-df-convert:hover {\n",
              "      background-color: #434B5C;\n",
              "      box-shadow: 0px 1px 3px 1px rgba(0, 0, 0, 0.15);\n",
              "      filter: drop-shadow(0px 1px 2px rgba(0, 0, 0, 0.3));\n",
              "      fill: #FFFFFF;\n",
              "    }\n",
              "  </style>\n",
              "\n",
              "      <script>\n",
              "        const buttonEl =\n",
              "          document.querySelector('#df-0a98fc37-9db9-47ed-a0c3-1d5f763db9a5 button.colab-df-convert');\n",
              "        buttonEl.style.display =\n",
              "          google.colab.kernel.accessAllowed ? 'block' : 'none';\n",
              "\n",
              "        async function convertToInteractive(key) {\n",
              "          const element = document.querySelector('#df-0a98fc37-9db9-47ed-a0c3-1d5f763db9a5');\n",
              "          const dataTable =\n",
              "            await google.colab.kernel.invokeFunction('convertToInteractive',\n",
              "                                                     [key], {});\n",
              "          if (!dataTable) return;\n",
              "\n",
              "          const docLinkHtml = 'Like what you see? Visit the ' +\n",
              "            '<a target=\"_blank\" href=https://colab.research.google.com/notebooks/data_table.ipynb>data table notebook</a>'\n",
              "            + ' to learn more about interactive tables.';\n",
              "          element.innerHTML = '';\n",
              "          dataTable['output_type'] = 'display_data';\n",
              "          await google.colab.output.renderOutput(dataTable, element);\n",
              "          const docLink = document.createElement('div');\n",
              "          docLink.innerHTML = docLinkHtml;\n",
              "          element.appendChild(docLink);\n",
              "        }\n",
              "      </script>\n",
              "    </div>\n",
              "  </div>\n",
              "  "
            ]
          },
          "metadata": {},
          "execution_count": 204
        }
      ],
      "source": [
        "df_test #model performance of testing"
      ]
    }
  ],
  "metadata": {
    "colab": {
      "collapsed_sections": [],
      "name": "FYP_Model_Training_Testing.ipynb",
      "provenance": []
    },
    "kernelspec": {
      "display_name": "Python 3",
      "language": "python",
      "name": "python3"
    },
    "language_info": {
      "codemirror_mode": {
        "name": "ipython",
        "version": 3
      },
      "file_extension": ".py",
      "mimetype": "text/x-python",
      "name": "python",
      "nbconvert_exporter": "python",
      "pygments_lexer": "ipython3",
      "version": "3.8.3"
    }
  },
  "nbformat": 4,
  "nbformat_minor": 0
}