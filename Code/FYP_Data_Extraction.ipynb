{
  "nbformat": 4,
  "nbformat_minor": 0,
  "metadata": {
    "colab": {
      "name": "FYP_Data_Extraction.ipynb",
      "provenance": [],
      "collapsed_sections": []
    },
    "kernelspec": {
      "name": "python3",
      "display_name": "Python 3"
    },
    "language_info": {
      "name": "python"
    }
  },
  "cells": [
    {
      "cell_type": "code",
      "execution_count": null,
      "metadata": {
        "id": "_khCFYtb3gL0"
      },
      "outputs": [],
      "source": [
        "import pandas as pd\n",
        "import pickle"
      ]
    },
    {
      "cell_type": "code",
      "source": [
        "from google.colab import drive\n",
        "drive.mount('/content/drive')"
      ],
      "metadata": {
        "colab": {
          "base_uri": "https://localhost:8080/"
        },
        "id": "rNl5nOeW3_qp",
        "outputId": "bcdd97db-dae6-4b9a-aefa-576200c0c9a1"
      },
      "execution_count": null,
      "outputs": [
        {
          "output_type": "stream",
          "name": "stdout",
          "text": [
            "Drive already mounted at /content/drive; to attempt to forcibly remount, call drive.mount(\"/content/drive\", force_remount=True).\n"
          ]
        }
      ]
    },
    {
      "cell_type": "code",
      "source": [
        "full_data = pd.read_csv('/content/drive/MyDrive/ＭＹ FYP/accepted_2007_to_2018Q4.csv.gz')"
      ],
      "metadata": {
        "colab": {
          "base_uri": "https://localhost:8080/"
        },
        "id": "zYW6uB3g318h",
        "outputId": "9e11456c-5288-4f55-bd17-82aab2dfbf0a"
      },
      "execution_count": null,
      "outputs": [
        {
          "output_type": "stream",
          "name": "stderr",
          "text": [
            "/usr/local/lib/python3.7/dist-packages/IPython/core/interactiveshell.py:2882: DtypeWarning: Columns (0,19,49,59,118,129,130,131,134,135,136,139,145,146,147) have mixed types.Specify dtype option on import or set low_memory=False.\n",
            "  exec(code_obj, self.user_global_ns, self.user_ns)\n"
          ]
        }
      ]
    },
    {
      "cell_type": "code",
      "source": [
        "full_data.info(max_cols=200)"
      ],
      "metadata": {
        "colab": {
          "base_uri": "https://localhost:8080/"
        },
        "id": "G84Y7paz4lrS",
        "outputId": "1946cb7b-ff99-4e6a-8772-b674b8d1caa6"
      },
      "execution_count": null,
      "outputs": [
        {
          "output_type": "stream",
          "name": "stdout",
          "text": [
            "<class 'pandas.core.frame.DataFrame'>\n",
            "RangeIndex: 2260701 entries, 0 to 2260700\n",
            "Data columns (total 151 columns):\n",
            " #    Column                                      Dtype  \n",
            "---   ------                                      -----  \n",
            " 0    id                                          object \n",
            " 1    member_id                                   float64\n",
            " 2    loan_amnt                                   float64\n",
            " 3    funded_amnt                                 float64\n",
            " 4    funded_amnt_inv                             float64\n",
            " 5    term                                        object \n",
            " 6    int_rate                                    float64\n",
            " 7    installment                                 float64\n",
            " 8    grade                                       object \n",
            " 9    sub_grade                                   object \n",
            " 10   emp_title                                   object \n",
            " 11   emp_length                                  object \n",
            " 12   home_ownership                              object \n",
            " 13   annual_inc                                  float64\n",
            " 14   verification_status                         object \n",
            " 15   issue_d                                     object \n",
            " 16   loan_status                                 object \n",
            " 17   pymnt_plan                                  object \n",
            " 18   url                                         object \n",
            " 19   desc                                        object \n",
            " 20   purpose                                     object \n",
            " 21   title                                       object \n",
            " 22   zip_code                                    object \n",
            " 23   addr_state                                  object \n",
            " 24   dti                                         float64\n",
            " 25   delinq_2yrs                                 float64\n",
            " 26   earliest_cr_line                            object \n",
            " 27   fico_range_low                              float64\n",
            " 28   fico_range_high                             float64\n",
            " 29   inq_last_6mths                              float64\n",
            " 30   mths_since_last_delinq                      float64\n",
            " 31   mths_since_last_record                      float64\n",
            " 32   open_acc                                    float64\n",
            " 33   pub_rec                                     float64\n",
            " 34   revol_bal                                   float64\n",
            " 35   revol_util                                  float64\n",
            " 36   total_acc                                   float64\n",
            " 37   initial_list_status                         object \n",
            " 38   out_prncp                                   float64\n",
            " 39   out_prncp_inv                               float64\n",
            " 40   total_pymnt                                 float64\n",
            " 41   total_pymnt_inv                             float64\n",
            " 42   total_rec_prncp                             float64\n",
            " 43   total_rec_int                               float64\n",
            " 44   total_rec_late_fee                          float64\n",
            " 45   recoveries                                  float64\n",
            " 46   collection_recovery_fee                     float64\n",
            " 47   last_pymnt_d                                object \n",
            " 48   last_pymnt_amnt                             float64\n",
            " 49   next_pymnt_d                                object \n",
            " 50   last_credit_pull_d                          object \n",
            " 51   last_fico_range_high                        float64\n",
            " 52   last_fico_range_low                         float64\n",
            " 53   collections_12_mths_ex_med                  float64\n",
            " 54   mths_since_last_major_derog                 float64\n",
            " 55   policy_code                                 float64\n",
            " 56   application_type                            object \n",
            " 57   annual_inc_joint                            float64\n",
            " 58   dti_joint                                   float64\n",
            " 59   verification_status_joint                   object \n",
            " 60   acc_now_delinq                              float64\n",
            " 61   tot_coll_amt                                float64\n",
            " 62   tot_cur_bal                                 float64\n",
            " 63   open_acc_6m                                 float64\n",
            " 64   open_act_il                                 float64\n",
            " 65   open_il_12m                                 float64\n",
            " 66   open_il_24m                                 float64\n",
            " 67   mths_since_rcnt_il                          float64\n",
            " 68   total_bal_il                                float64\n",
            " 69   il_util                                     float64\n",
            " 70   open_rv_12m                                 float64\n",
            " 71   open_rv_24m                                 float64\n",
            " 72   max_bal_bc                                  float64\n",
            " 73   all_util                                    float64\n",
            " 74   total_rev_hi_lim                            float64\n",
            " 75   inq_fi                                      float64\n",
            " 76   total_cu_tl                                 float64\n",
            " 77   inq_last_12m                                float64\n",
            " 78   acc_open_past_24mths                        float64\n",
            " 79   avg_cur_bal                                 float64\n",
            " 80   bc_open_to_buy                              float64\n",
            " 81   bc_util                                     float64\n",
            " 82   chargeoff_within_12_mths                    float64\n",
            " 83   delinq_amnt                                 float64\n",
            " 84   mo_sin_old_il_acct                          float64\n",
            " 85   mo_sin_old_rev_tl_op                        float64\n",
            " 86   mo_sin_rcnt_rev_tl_op                       float64\n",
            " 87   mo_sin_rcnt_tl                              float64\n",
            " 88   mort_acc                                    float64\n",
            " 89   mths_since_recent_bc                        float64\n",
            " 90   mths_since_recent_bc_dlq                    float64\n",
            " 91   mths_since_recent_inq                       float64\n",
            " 92   mths_since_recent_revol_delinq              float64\n",
            " 93   num_accts_ever_120_pd                       float64\n",
            " 94   num_actv_bc_tl                              float64\n",
            " 95   num_actv_rev_tl                             float64\n",
            " 96   num_bc_sats                                 float64\n",
            " 97   num_bc_tl                                   float64\n",
            " 98   num_il_tl                                   float64\n",
            " 99   num_op_rev_tl                               float64\n",
            " 100  num_rev_accts                               float64\n",
            " 101  num_rev_tl_bal_gt_0                         float64\n",
            " 102  num_sats                                    float64\n",
            " 103  num_tl_120dpd_2m                            float64\n",
            " 104  num_tl_30dpd                                float64\n",
            " 105  num_tl_90g_dpd_24m                          float64\n",
            " 106  num_tl_op_past_12m                          float64\n",
            " 107  pct_tl_nvr_dlq                              float64\n",
            " 108  percent_bc_gt_75                            float64\n",
            " 109  pub_rec_bankruptcies                        float64\n",
            " 110  tax_liens                                   float64\n",
            " 111  tot_hi_cred_lim                             float64\n",
            " 112  total_bal_ex_mort                           float64\n",
            " 113  total_bc_limit                              float64\n",
            " 114  total_il_high_credit_limit                  float64\n",
            " 115  revol_bal_joint                             float64\n",
            " 116  sec_app_fico_range_low                      float64\n",
            " 117  sec_app_fico_range_high                     float64\n",
            " 118  sec_app_earliest_cr_line                    object \n",
            " 119  sec_app_inq_last_6mths                      float64\n",
            " 120  sec_app_mort_acc                            float64\n",
            " 121  sec_app_open_acc                            float64\n",
            " 122  sec_app_revol_util                          float64\n",
            " 123  sec_app_open_act_il                         float64\n",
            " 124  sec_app_num_rev_accts                       float64\n",
            " 125  sec_app_chargeoff_within_12_mths            float64\n",
            " 126  sec_app_collections_12_mths_ex_med          float64\n",
            " 127  sec_app_mths_since_last_major_derog         float64\n",
            " 128  hardship_flag                               object \n",
            " 129  hardship_type                               object \n",
            " 130  hardship_reason                             object \n",
            " 131  hardship_status                             object \n",
            " 132  deferral_term                               float64\n",
            " 133  hardship_amount                             float64\n",
            " 134  hardship_start_date                         object \n",
            " 135  hardship_end_date                           object \n",
            " 136  payment_plan_start_date                     object \n",
            " 137  hardship_length                             float64\n",
            " 138  hardship_dpd                                float64\n",
            " 139  hardship_loan_status                        object \n",
            " 140  orig_projected_additional_accrued_interest  float64\n",
            " 141  hardship_payoff_balance_amount              float64\n",
            " 142  hardship_last_payment_amount                float64\n",
            " 143  disbursement_method                         object \n",
            " 144  debt_settlement_flag                        object \n",
            " 145  debt_settlement_flag_date                   object \n",
            " 146  settlement_status                           object \n",
            " 147  settlement_date                             object \n",
            " 148  settlement_amount                           float64\n",
            " 149  settlement_percentage                       float64\n",
            " 150  settlement_term                             float64\n",
            "dtypes: float64(113), object(38)\n",
            "memory usage: 2.5+ GB\n"
          ]
        }
      ]
    },
    {
      "cell_type": "code",
      "source": [
        "full_data['purpose'].unique() # different types of loan in this datasets"
      ],
      "metadata": {
        "colab": {
          "base_uri": "https://localhost:8080/"
        },
        "id": "c1VAAREP5xJQ",
        "outputId": "1e8c9b27-13a2-4f7f-c434-6763ec41d71f"
      },
      "execution_count": null,
      "outputs": [
        {
          "output_type": "execute_result",
          "data": {
            "text/plain": [
              "array(['debt_consolidation', 'small_business', 'home_improvement',\n",
              "       'major_purchase', 'credit_card', 'other', 'house', 'vacation',\n",
              "       'car', 'medical', 'moving', 'renewable_energy', 'wedding',\n",
              "       'educational', nan], dtype=object)"
            ]
          },
          "metadata": {},
          "execution_count": 8
        }
      ]
    },
    {
      "cell_type": "code",
      "source": [
        "full_data['purpose'].value_counts() #number of data for different types of loan"
      ],
      "metadata": {
        "colab": {
          "base_uri": "https://localhost:8080/"
        },
        "id": "acZabNRJ53wk",
        "outputId": "1edcb03f-2c03-427d-a07d-ef0dd33f5490"
      },
      "execution_count": null,
      "outputs": [
        {
          "output_type": "execute_result",
          "data": {
            "text/plain": [
              "debt_consolidation    1277877\n",
              "credit_card            516971\n",
              "home_improvement       150457\n",
              "other                  139440\n",
              "major_purchase          50445\n",
              "medical                 27488\n",
              "small_business          24689\n",
              "car                     24013\n",
              "vacation                15525\n",
              "moving                  15403\n",
              "house                   14136\n",
              "wedding                  2355\n",
              "renewable_energy         1445\n",
              "educational               424\n",
              "Name: purpose, dtype: int64"
            ]
          },
          "metadata": {},
          "execution_count": 9
        }
      ]
    },
    {
      "cell_type": "code",
      "source": [
        "len(full_data) # length of full data"
      ],
      "metadata": {
        "colab": {
          "base_uri": "https://localhost:8080/"
        },
        "id": "VyB6HKQt42_v",
        "outputId": "d6a282ac-08fa-48e8-d0a9-a78da5d29f00"
      },
      "execution_count": null,
      "outputs": [
        {
          "output_type": "execute_result",
          "data": {
            "text/plain": [
              "263050"
            ]
          },
          "metadata": {},
          "execution_count": 6
        }
      ]
    },
    {
      "cell_type": "code",
      "source": [
        "house =full_data[full_data['purpose']=='house']  # extract housing loan default data"
      ],
      "metadata": {
        "id": "VbDUUD805akY"
      },
      "execution_count": null,
      "outputs": []
    },
    {
      "cell_type": "code",
      "source": [
        "len(house) # length of housing loan default data"
      ],
      "metadata": {
        "colab": {
          "base_uri": "https://localhost:8080/"
        },
        "id": "dZpO-IBW5gyk",
        "outputId": "22c367cf-92cd-4a04-b9b4-0d3d0835bbca"
      },
      "execution_count": null,
      "outputs": [
        {
          "output_type": "execute_result",
          "data": {
            "text/plain": [
              "867"
            ]
          },
          "metadata": {},
          "execution_count": 9
        }
      ]
    },
    {
      "cell_type": "code",
      "source": [
        "pickle.dump(house, open('pickle_files/Lending_Club_House.pkl', 'wb')) # dataframe store in pickel file"
      ],
      "metadata": {
        "id": "vdq3VOfY5l4Q"
      },
      "execution_count": null,
      "outputs": []
    }
  ]
}